{
 "cells": [
  {
   "cell_type": "code",
   "execution_count": null,
   "metadata": {},
   "outputs": [],
   "source": [
    "import gmaps\n",
    "import gmaps.datasets\n",
    "import gmaps.geojson_geometries\n",
    "import json\n",
    "from matplotlib.cm import viridis, plasma\n",
    "from matplotlib.colors import to_hex\n",
    "import matplotlib.pyplot as plt\n",
    "import pandas as pd\n",
    "from config import census_key, g_key\n",
    "pd.set_option('display.max_columns', None)\n",
    "gmaps.configure(api_key=g_key)"
   ]
  },
  {
   "cell_type": "markdown",
   "metadata": {},
   "source": [
    "## Create State Info Table"
   ]
  },
  {
   "cell_type": "code",
   "execution_count": null,
   "metadata": {},
   "outputs": [],
   "source": [
    "\n",
    "\n",
    "# Create file with state info including codes and names\n",
    "\n",
    "states_json = pd.read_json('data/us_states.json')\n",
    "\n",
    "objects = states_json.features.to_list()\n",
    "\n",
    "state_codes = []\n",
    "state_names = []\n",
    "state_census_area = []\n",
    "\n",
    "for object in objects:\n",
    "    p = object['properties']\n",
    "    state_codes.append(p['STATE'])\n",
    "    state_names.append(p['NAME'])\n",
    "    state_census_area.append(p['CENSUSAREA'])\n",
    "\n",
    "state_codes = pd.DataFrame(\n",
    "    {'State Codes': state_codes,\n",
    "    'State Names': state_names,\n",
    "    'State Census Area': state_census_area\n",
    "    })\n",
    "\n",
    "# Import state abbrievations\n",
    "\n",
    "state_abbreviations = pd.read_csv('data/state_abbreviations.csv')\n",
    "\n",
    "state_abbreviations[state_abbreviations =='D.C.'] = 'District of Columbia'\n",
    "\n",
    "state_abbreviations.rename(columns={'Abbreviation': 'State Abbreviations'}, inplace=True)\n",
    "\n",
    "state_info = pd.merge(state_codes, state_abbreviations, left_on='State Names', right_on='State', how='outer')\n",
    "\n",
    "state_info.drop(columns='State', inplace=True)\n",
    "    \n",
    "state_info.to_csv('data/county_info.csv', index=None)\n",
    "\n",
    "state_info"
   ]
  },
  {
   "cell_type": "markdown",
   "metadata": {},
   "source": [
    "## Create County Info Table"
   ]
  },
  {
   "cell_type": "code",
   "execution_count": null,
   "metadata": {},
   "outputs": [],
   "source": [
    "# Create file with county info including names and codes\n",
    "\n",
    "counties_json = pd.read_json('data/us_counties.json', encoding='latin1')\n",
    "\n",
    "objects = counties_json.features.to_list()\n",
    "\n",
    "state_codes = []\n",
    "county_codes = []\n",
    "county_names = []\n",
    "county_census_area = []\n",
    "\n",
    "for object in objects:\n",
    "    p = object['properties']\n",
    "    state_codes.append(p['STATE'])\n",
    "    county_codes.append(p['COUNTY'])\n",
    "    county_names.append(p['NAME'])\n",
    "    county_census_area.append(p['CENSUSAREA'])\n",
    "\n",
    "county_info = pd.DataFrame(\n",
    "    {'State Codes': state_codes,\n",
    "    'County Codes': county_codes,\n",
    "    'County Names': county_names,\n",
    "    'County Census Area': county_census_area\n",
    "    })\n",
    "    \n",
    "county_info.to_csv('data/county_info.csv', index=None)\n",
    "\n",
    "county_info"
   ]
  },
  {
   "cell_type": "markdown",
   "metadata": {},
   "source": [
    "## UFO Data"
   ]
  },
  {
   "cell_type": "code",
   "execution_count": null,
   "metadata": {},
   "outputs": [],
   "source": [
    "#UFO CSV Data (includes Canadian \"States\")\n",
    "\n",
    "ufo_data = pd.read_csv('data/ufo_data.csv', low_memory=False)\n"
   ]
  },
  {
   "cell_type": "code",
   "execution_count": null,
   "metadata": {},
   "outputs": [],
   "source": [
    "# Sighting frequencies for each state\n",
    "\n",
    "sightings_by_state = ufo_data[['datetime', 'state']].groupby('state').count().reset_index()\n",
    "sightings_by_state.columns = ['State', 'Sightings']\n",
    "sightings_by_state"
   ]
  },
  {
   "cell_type": "code",
   "execution_count": null,
   "metadata": {},
   "outputs": [],
   "source": [
    "ufo_data['duration (seconds)'] = pd.to_numeric(ufo_data['duration (seconds)'], errors='coerce')\n",
    "\n",
    "print(ufo_data.info())\n",
    "\n",
    "ufo_data[~ufo_data['duration (seconds)'].isnull()]"
   ]
  },
  {
   "cell_type": "code",
   "execution_count": null,
   "metadata": {},
   "outputs": [],
   "source": [
    "# Average duration by State\n",
    "\n",
    "duration_by_state = ufo_data[['duration (seconds)', 'state']].groupby('state').mean().reset_index()\n",
    "duration_by_state.columns = ['State', 'Duration']\n",
    "duration_by_state"
   ]
  },
  {
   "cell_type": "markdown",
   "metadata": {},
   "source": [
    "### State Sightings and Duration"
   ]
  },
  {
   "cell_type": "code",
   "execution_count": null,
   "metadata": {},
   "outputs": [],
   "source": [
    "state_sightings = pd.merge(sightings_by_state, duration_by_state, on='State')\n",
    "\n",
    "state_sightings.to_csv('data/state_sightings.csv', index=None)\n",
    "\n",
    "state_sightings"
   ]
  },
  {
   "cell_type": "code",
   "execution_count": null,
   "metadata": {},
   "outputs": [],
   "source": [
    "ufo_data['shape'].value_counts()"
   ]
  },
  {
   "cell_type": "code",
   "execution_count": null,
   "metadata": {},
   "outputs": [],
   "source": [
    "ufo_data['shape'] = ufo_data['shape'].apply(lambda x: 'other' if x in ('delta', 'crescent', 'round', 'pyramid', 'changed', 'hexagon', 'flare', 'dome') else x)\n",
    "ufo_data['shape'].value_counts()"
   ]
  },
  {
   "cell_type": "markdown",
   "metadata": {},
   "source": [
    "### Shapes Counts by State"
   ]
  },
  {
   "cell_type": "code",
   "execution_count": null,
   "metadata": {},
   "outputs": [],
   "source": [
    "# Count of Shapes by State\n",
    "\n",
    "shape_counts = pd.pivot_table(ufo_data, index='state', aggfunc='count', columns='shape')\n",
    "\n",
    "# shape_counts = shape_counts.rename(columns = {''})\n",
    "\n",
    "shape_counts_by_state = shape_counts.iloc[:, 0:21].reset_index()\n",
    "shape_counts_by_state.columns = shape_counts_by_state.columns.droplevel()\n",
    "\n",
    "cols = ['State', 'changing', 'chevron', 'cigar', 'circle', 'cone', 'cross',\n",
    "       'cylinder', 'diamond', 'disk', 'egg', 'fireball', 'flash', 'formation',\n",
    "       'light', 'other', 'oval', 'rectangle', 'sphere', 'teardrop', 'triangle',\n",
    "       'unknown']\n",
    "\n",
    "new_cols = []\n",
    "for c in cols:\n",
    "    new_cols.append(c.title())\n",
    "\n",
    "shape_counts_by_state.columns = new_cols\n",
    "\n",
    "shape_counts_by_state.to_csv('data/state_shape_counts.csv', index=None)"
   ]
  },
  {
   "cell_type": "markdown",
   "metadata": {},
   "source": [
    "## Converting into Heatmap of States by Sighting with Python"
   ]
  },
  {
   "cell_type": "code",
   "execution_count": null,
   "metadata": {},
   "outputs": [],
   "source": [
    "# Configure state maps\n",
    "\n",
    "state_geo = json.load(open(\"data/us_states.json\"))\n",
    "\n",
    "print(len(state_geo['features']))\n",
    "print(state_geo.keys())\n",
    "print()"
   ]
  },
  {
   "cell_type": "code",
   "execution_count": null,
   "metadata": {},
   "outputs": [],
   "source": [
    "# # Configure county maps\n",
    "\n",
    "# county_geo = json.load(open(\"data/us_counties.json\"))\n",
    "\n",
    "# print(len(county_geo['features']))\n",
    "# print(county_geo.keys())\n",
    "# print()"
   ]
  },
  {
   "cell_type": "code",
   "execution_count": null,
   "metadata": {},
   "outputs": [],
   "source": [
    "data_dict = sightings_by_state.set_index('State').to_dict()['Sightings']\n",
    "rate_max = max(data_dict.values())\n",
    "rate_min = min(data_dict.values())\n",
    "nh_range = rate_max - rate_min"
   ]
  },
  {
   "cell_type": "code",
   "execution_count": null,
   "metadata": {},
   "outputs": [],
   "source": [
    "#Scale the states values to lie between 0 and 1\n",
    "min_nh = min(data_dict.values())\n",
    "max_nh = max(data_dict.values())\n",
    "nh_range = max_nh - min_nh\n",
    "\n",
    "def calculate_color(state): #Convert the state sightings to a color\n",
    "    normalized_nh = (state - min_nh) / nh_range # make the state sightings a number between 0 and 1\n",
    "    inverse_nh = 1.0 - normalized_nh # invert state sightings so that a higher values renders a darker color\n",
    "    mpl_color = plasma(inverse_nh) # transform the neighborhood value to a matplotlib color\n",
    "    gmaps_color = to_hex(mpl_color, keep_alpha=False) # transform from a matplotlib color to a valid CSS color\n",
    "    return gmaps_color\n",
    "\n",
    "colors = []\n",
    "for feature in state_geo['features']:\n",
    "    geo_nh_name = feature['properties']['NAME']\n",
    "    try:\n",
    "        nh = data_dict[geo_nh_name]\n",
    "        color = calculate_color(nh)\n",
    "    except KeyError:\n",
    "        # no value for that state: return default color\n",
    "        color = (0, 0, 0, 0.3)\n",
    "    colors.append(color)"
   ]
  },
  {
   "cell_type": "code",
   "execution_count": null,
   "metadata": {},
   "outputs": [],
   "source": [
    "fig = gmaps.figure()\n",
    "nh_layer = gmaps.geojson_layer(\n",
    "    state_geo,\n",
    "    fill_color=colors,\n",
    "    stroke_color=colors,\n",
    "    fill_opacity=0.8)\n",
    "fig.add_layer(nh_layer)\n",
    "fig"
   ]
  }
 ],
 "metadata": {
  "kernelspec": {
   "display_name": "Python 3",
   "language": "python",
   "name": "python3"
  },
  "language_info": {
   "codemirror_mode": {
    "name": "ipython",
    "version": 3
   },
   "file_extension": ".py",
   "mimetype": "text/x-python",
   "name": "python",
   "nbconvert_exporter": "python",
   "pygments_lexer": "ipython3",
   "version": "3.7.6"
  }
 },
 "nbformat": 4,
 "nbformat_minor": 4
}
